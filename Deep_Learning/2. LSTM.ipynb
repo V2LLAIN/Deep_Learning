{
 "cells": [
  {
   "cell_type": "code",
   "execution_count": 1,
   "id": "605893e5-a9a1-4f46-8504-4ca528624c85",
   "metadata": {},
   "outputs": [
    {
     "name": "stderr",
     "output_type": "stream",
     "text": [
      "2023-01-26 05:10:11.387553: I tensorflow/core/platform/cpu_feature_guard.cc:193] This TensorFlow binary is optimized with oneAPI Deep Neural Network Library (oneDNN) to use the following CPU instructions in performance-critical operations:  AVX2 FMA\n",
      "To enable them in other operations, rebuild TensorFlow with the appropriate compiler flags.\n",
      "2023-01-26 05:10:11.495078: E tensorflow/stream_executor/cuda/cuda_blas.cc:2981] Unable to register cuBLAS factory: Attempting to register factory for plugin cuBLAS when one has already been registered\n"
     ]
    }
   ],
   "source": [
    "import numpy as np\n",
    "import tensorflow as tf"
   ]
  },
  {
   "cell_type": "markdown",
   "id": "7d440160",
   "metadata": {},
   "source": [
    "랜덤시드 설정"
   ]
  },
  {
   "cell_type": "code",
   "execution_count": 2,
   "id": "2a0182e0-cb13-4680-927f-c30b21d3b35e",
   "metadata": {},
   "outputs": [],
   "source": [
    "np.random.seed(0)\n",
    "tf.random.set_seed(0)"
   ]
  },
  {
   "cell_type": "markdown",
   "id": "aa91bf24",
   "metadata": {},
   "source": [
    "데이터 불러오기 및 Original Data 차원 확인"
   ]
  },
  {
   "cell_type": "code",
   "execution_count": 3,
   "id": "85479a3b-dfb2-4352-a827-b7e54511ee48",
   "metadata": {},
   "outputs": [],
   "source": [
    "from tensorflow.keras import datasets\n",
    "(X_train0, y_train0), (X_test0, y_test) = datasets.imdb.load_data(num_words=2000)\n",
    "# imdb 영화감상 데이터를 불러오며 자주 사용되는 2000개를 사용한다. "
   ]
  },
  {
   "cell_type": "code",
   "execution_count": 4,
   "id": "5b885df7",
   "metadata": {
    "collapsed": false,
    "jupyter": {
     "outputs_hidden": false
    }
   },
   "outputs": [
    {
     "name": "stdout",
     "output_type": "stream",
     "text": [
      "(25000,) (25000,)\n",
      "(25000,) (25000,)\n"
     ]
    }
   ],
   "source": [
    "print(X_train0.shape, y_train0.shape)\n",
    "print(X_test0.shape, y_test.shape)\n",
    "# train, test데이터 모두 25000개의 데이터로 구성되어 있음을 알 수 있음"
   ]
  },
  {
   "cell_type": "markdown",
   "id": "bfd53636",
   "metadata": {},
   "source": [
    "training, validation set 분리"
   ]
  },
  {
   "cell_type": "code",
   "execution_count": 5,
   "id": "aa56447f-914c-47f1-9261-3fdbf247f644",
   "metadata": {},
   "outputs": [
    {
     "name": "stdout",
     "output_type": "stream",
     "text": [
      "(20000,) (20000,)\n",
      "(5000,) (5000,)\n"
     ]
    }
   ],
   "source": [
    "X_train, y_train = X_train0[0:20000], y_train0[0:20000]\n",
    "X_valid, y_valid = X_train0[20000:25000], y_train0[20000:25000]\n",
    "\n",
    "print(X_train.shape, y_train.shape)\n",
    "print(X_valid.shape, y_valid.shape)"
   ]
  },
  {
   "cell_type": "markdown",
   "id": "800ac6f6",
   "metadata": {},
   "source": [
    "feature data 형태 확인"
   ]
  },
  {
   "cell_type": "code",
   "execution_count": 6,
   "id": "1129d815-487e-463c-bad1-668d685e3474",
   "metadata": {},
   "outputs": [
    {
     "name": "stdout",
     "output_type": "stream",
     "text": [
      "[1, 14, 22, 16, 43, 530, 973, 1622, 1385, 65, 458, 2, 66, 2, 4, 173, 36, 256, 5, 25, 100, 43, 838, 112, 50, 670, 2, 9, 35, 480, 284, 5, 150, 4, 172, 112, 167, 2, 336, 385, 39, 4, 172, 2, 1111, 17, 546, 38, 13, 447, 4, 192, 50, 16, 6, 147, 2, 19, 14, 22, 4, 1920, 2, 469, 4, 22, 71, 87, 12, 16, 43, 530, 38, 76, 15, 13, 1247, 4, 22, 17, 515, 17, 12, 16, 626, 18, 2, 5, 62, 386, 12, 8, 316, 8, 106, 5, 4, 2, 2, 16, 480, 66, 2, 33, 4, 130, 12, 16, 38, 619, 5, 25, 124, 51, 36, 135, 48, 25, 1415, 33, 6, 22, 12, 215, 28, 77, 52, 5, 14, 407, 16, 82, 2, 8, 4, 107, 117, 2, 15, 256, 4, 2, 7, 2, 5, 723, 36, 71, 43, 530, 476, 26, 400, 317, 46, 7, 4, 2, 1029, 13, 104, 88, 4, 381, 15, 297, 98, 32, 2, 56, 26, 141, 6, 194, 2, 18, 4, 226, 22, 21, 134, 476, 26, 480, 5, 144, 30, 2, 18, 51, 36, 28, 224, 92, 25, 104, 4, 226, 65, 16, 38, 1334, 88, 12, 16, 283, 5, 16, 2, 113, 103, 32, 15, 16, 2, 19, 178, 32]\n",
      "218\n",
      "189\n"
     ]
    }
   ],
   "source": [
    "print(X_train[0])\n",
    "\n",
    "# 개별 feature 크기 확인\n",
    "print(len(X_train[0]))\n",
    "print(len(X_train[1]))"
   ]
  },
  {
   "cell_type": "markdown",
   "id": "a520e768",
   "metadata": {},
   "source": [
    "target class 확인"
   ]
  },
  {
   "cell_type": "code",
   "execution_count": 7,
   "id": "a7c87b2a-c648-4035-8b62-4b015b0e2b0b",
   "metadata": {},
   "outputs": [
    {
     "name": "stdout",
     "output_type": "stream",
     "text": [
      "{0, 1}\n"
     ]
    }
   ],
   "source": [
    "print(set(y_test))\n",
    "# 출력 결과는 0과 1의 2개의 클래스로 이루어진 이진분류문제임을 알 수 있다. (0은 부정리뷰, 1은 긍정리뷰)"
   ]
  },
  {
   "cell_type": "markdown",
   "id": "85016f30",
   "metadata": {},
   "source": [
    "feature data 변형 - 제각기 다른 feauture data의 길이를 일치시켜야 한다."
   ]
  },
  {
   "cell_type": "code",
   "execution_count": 8,
   "id": "e7661670-0694-43f2-a2c1-b30fd67b5b36",
   "metadata": {},
   "outputs": [
    {
     "name": "stdout",
     "output_type": "stream",
     "text": [
      "(20000, 100)\n",
      "(5000, 100)\n",
      "(25000, 100)\n"
     ]
    }
   ],
   "source": [
    "# data의 길이를 맞출 때는 sequence를 이용한다. \n",
    "from tensorflow.keras.preprocessing import sequence\n",
    "\n",
    "# pad_sequences함수를 이용해 길이를 100으로 맞춘다.(maxlen을 조정해 길이를 바꿀 수 있음)\n",
    "# 길이가 100을 넘으면 나머지는 삭제, 길이가 100이 안되면 0으로 채운다.\n",
    "X_train = sequence.pad_sequences(X_train, maxlen = 100)\n",
    "X_valid = sequence.pad_sequences(X_valid, maxlen = 100)\n",
    "X_test = sequence.pad_sequences(X_test0, maxlen = 100)\n",
    "\n",
    "print(X_train.shape)\n",
    "print(X_valid.shape)\n",
    "print(X_test.shape)"
   ]
  },
  {
   "cell_type": "code",
   "execution_count": null,
   "id": "959b6745-ee5f-4670-a538-b69f68c08070",
   "metadata": {},
   "outputs": [],
   "source": []
  },
  {
   "cell_type": "markdown",
   "id": "1a0e7237",
   "metadata": {},
   "source": [
    "LSTM model 생성"
   ]
  },
  {
   "cell_type": "code",
   "execution_count": 9,
   "id": "a2ec2d36-4de2-49ff-8b57-7301134de2b8",
   "metadata": {},
   "outputs": [
    {
     "name": "stderr",
     "output_type": "stream",
     "text": [
      "2023-01-26 05:10:15.980881: I tensorflow/stream_executor/cuda/cuda_gpu_executor.cc:980] successful NUMA node read from SysFS had negative value (-1), but there must be at least one NUMA node, so returning NUMA node zero\n",
      "2023-01-26 05:10:15.982953: I tensorflow/stream_executor/cuda/cuda_gpu_executor.cc:980] successful NUMA node read from SysFS had negative value (-1), but there must be at least one NUMA node, so returning NUMA node zero\n",
      "2023-01-26 05:10:15.983095: I tensorflow/stream_executor/cuda/cuda_gpu_executor.cc:980] successful NUMA node read from SysFS had negative value (-1), but there must be at least one NUMA node, so returning NUMA node zero\n",
      "2023-01-26 05:10:15.983403: I tensorflow/core/platform/cpu_feature_guard.cc:193] This TensorFlow binary is optimized with oneAPI Deep Neural Network Library (oneDNN) to use the following CPU instructions in performance-critical operations:  AVX2 FMA\n",
      "To enable them in other operations, rebuild TensorFlow with the appropriate compiler flags.\n",
      "2023-01-26 05:10:15.983815: I tensorflow/stream_executor/cuda/cuda_gpu_executor.cc:980] successful NUMA node read from SysFS had negative value (-1), but there must be at least one NUMA node, so returning NUMA node zero\n",
      "2023-01-26 05:10:15.983955: I tensorflow/stream_executor/cuda/cuda_gpu_executor.cc:980] successful NUMA node read from SysFS had negative value (-1), but there must be at least one NUMA node, so returning NUMA node zero\n",
      "2023-01-26 05:10:15.984085: I tensorflow/stream_executor/cuda/cuda_gpu_executor.cc:980] successful NUMA node read from SysFS had negative value (-1), but there must be at least one NUMA node, so returning NUMA node zero\n",
      "2023-01-26 05:10:16.378214: I tensorflow/stream_executor/cuda/cuda_gpu_executor.cc:980] successful NUMA node read from SysFS had negative value (-1), but there must be at least one NUMA node, so returning NUMA node zero\n",
      "2023-01-26 05:10:16.378393: I tensorflow/stream_executor/cuda/cuda_gpu_executor.cc:980] successful NUMA node read from SysFS had negative value (-1), but there must be at least one NUMA node, so returning NUMA node zero\n",
      "2023-01-26 05:10:16.378535: I tensorflow/stream_executor/cuda/cuda_gpu_executor.cc:980] successful NUMA node read from SysFS had negative value (-1), but there must be at least one NUMA node, so returning NUMA node zero\n",
      "2023-01-26 05:10:16.378658: I tensorflow/core/common_runtime/gpu/gpu_device.cc:1616] Created device /job:localhost/replica:0/task:0/device:GPU:0 with 10400 MB memory:  -> device: 0, name: NVIDIA GeForce GTX 1080 Ti, pci bus id: 0000:02:00.0, compute capability: 6.1\n"
     ]
    },
    {
     "name": "stdout",
     "output_type": "stream",
     "text": [
      "Model: \"model\"\n",
      "_________________________________________________________________\n",
      " Layer (type)                Output Shape              Param #   \n",
      "=================================================================\n",
      " input_1 (InputLayer)        [(None, None)]            0         \n",
      "                                                                 \n",
      " embedding (Embedding)       (None, None, 100)         200000    \n",
      "                                                                 \n",
      " conv1d (Conv1D)             (None, None, 50)          15050     \n",
      "                                                                 \n",
      " max_pooling1d (MaxPooling1D  (None, None, 50)         0         \n",
      " )                                                               \n",
      "                                                                 \n",
      " lstm (LSTM)                 (None, 100)               60400     \n",
      "                                                                 \n",
      " dropout (Dropout)           (None, 100)               0         \n",
      "                                                                 \n",
      " dense (Dense)               (None, 1)                 101       \n",
      "                                                                 \n",
      "=================================================================\n",
      "Total params: 275,551\n",
      "Trainable params: 275,551\n",
      "Non-trainable params: 0\n",
      "_________________________________________________________________\n"
     ]
    }
   ],
   "source": [
    "from tensorflow.keras.models import Model\n",
    "from tensorflow.keras.layers import Dense, Input, Dropout, Embedding, LSTM\n",
    "from tensorflow.keras.layers import Conv1D, MaxPooling1D\n",
    "\n",
    "input = Input(shape=(None,))\n",
    "\n",
    "# Embedding을 이용해 단어 임베딩 층을 추가\n",
    "#input_dim은 총 단어의 개수(2000개), output_dim은 각 데이터값의 길이\n",
    "x = Embedding(input_dim=2000, output_dim=100)(input)\n",
    "x = Conv1D(50, 3, padding='valid', activation='relu')(x)\n",
    "x = MaxPooling1D(pool_size=3)(x)\n",
    "x = LSTM(100, activation='tanh')(x)\n",
    "x = Dropout(0.25)(x)\n",
    "output = Dense(1, activation='sigmoid')(x)\n",
    "\n",
    "model = Model(input, output)\n",
    "model.summary()"
   ]
  },
  {
   "cell_type": "code",
   "execution_count": null,
   "id": "64b2fff5-6031-449c-995d-8e63fedaae0b",
   "metadata": {},
   "outputs": [],
   "source": []
  },
  {
   "cell_type": "markdown",
   "id": "0c1d0422",
   "metadata": {},
   "source": [
    "Model 컴파일"
   ]
  },
  {
   "cell_type": "code",
   "execution_count": 10,
   "id": "c5087d5b-8b94-474a-86e7-4405dd563fa5",
   "metadata": {},
   "outputs": [],
   "source": [
    "# 이진분류문제이므로 loss='binary_crossentropy'로 하고, 모델 평가는 accuracy로 한다.\n",
    "model.compile(loss='binary_crossentropy', optimizer='adam', metrics=['accuracy'])"
   ]
  },
  {
   "cell_type": "markdown",
   "id": "43042d4b",
   "metadata": {},
   "source": [
    "학습 (validation data로 학습)"
   ]
  },
  {
   "cell_type": "code",
   "execution_count": 11,
   "id": "fbd5bde5-796b-4c11-9dd5-957669c98076",
   "metadata": {
    "tags": []
   },
   "outputs": [
    {
     "name": "stdout",
     "output_type": "stream",
     "text": [
      "Epoch 1/10\n"
     ]
    },
    {
     "name": "stderr",
     "output_type": "stream",
     "text": [
      "2023-01-26 05:10:17.958203: I tensorflow/stream_executor/cuda/cuda_dnn.cc:384] Loaded cuDNN version 8100\n"
     ]
    },
    {
     "name": "stdout",
     "output_type": "stream",
     "text": [
      "200/200 [==============================] - 3s 5ms/step - loss: 0.4910 - accuracy: 0.7474 - val_loss: 0.3867 - val_accuracy: 0.8260\n",
      "Epoch 2/10\n",
      "200/200 [==============================] - 1s 4ms/step - loss: 0.3426 - accuracy: 0.8537 - val_loss: 0.3723 - val_accuracy: 0.8306\n",
      "Epoch 3/10\n",
      "200/200 [==============================] - 1s 4ms/step - loss: 0.3005 - accuracy: 0.8758 - val_loss: 0.3669 - val_accuracy: 0.8378\n",
      "Epoch 4/10\n",
      "200/200 [==============================] - 1s 5ms/step - loss: 0.2575 - accuracy: 0.8990 - val_loss: 0.3964 - val_accuracy: 0.8286\n",
      "Epoch 5/10\n",
      "200/200 [==============================] - 1s 4ms/step - loss: 0.1987 - accuracy: 0.9275 - val_loss: 0.4302 - val_accuracy: 0.8238\n",
      "Epoch 6/10\n",
      "200/200 [==============================] - 1s 4ms/step - loss: 0.1251 - accuracy: 0.9586 - val_loss: 0.4751 - val_accuracy: 0.8230\n",
      "Epoch 7/10\n",
      "200/200 [==============================] - 1s 5ms/step - loss: 0.0714 - accuracy: 0.9783 - val_loss: 0.6071 - val_accuracy: 0.8206\n",
      "Epoch 8/10\n",
      "200/200 [==============================] - 1s 5ms/step - loss: 0.0494 - accuracy: 0.9840 - val_loss: 0.5970 - val_accuracy: 0.8238\n",
      "Epoch 9/10\n",
      "200/200 [==============================] - 1s 5ms/step - loss: 0.0353 - accuracy: 0.9894 - val_loss: 1.0210 - val_accuracy: 0.8044\n",
      "Epoch 10/10\n",
      "200/200 [==============================] - 1s 5ms/step - loss: 0.0186 - accuracy: 0.9945 - val_loss: 0.8746 - val_accuracy: 0.8160\n"
     ]
    }
   ],
   "source": [
    "hist = model.fit(X_train, y_train, batch_size=100, epochs = 10, validation_data = (X_valid, y_valid))"
   ]
  },
  {
   "cell_type": "markdown",
   "id": "87de69c5",
   "metadata": {},
   "source": [
    "Model 평가 _ accuracy"
   ]
  },
  {
   "cell_type": "code",
   "execution_count": 12,
   "id": "ae99364e-f904-453f-be12-26701f2643d4",
   "metadata": {},
   "outputs": [
    {
     "name": "stdout",
     "output_type": "stream",
     "text": [
      "625/625 [==============================] - 1s 2ms/step - loss: 0.0073 - accuracy: 0.9987\n",
      "0.9987000226974487\n",
      "157/157 [==============================] - 0s 2ms/step - loss: 0.8746 - accuracy: 0.8160\n",
      "0.8159999847412109\n",
      "782/782 [==============================] - 1s 2ms/step - loss: 0.8443 - accuracy: 0.8210\n",
      "0.8209599852561951\n"
     ]
    }
   ],
   "source": [
    "print(model.evaluate(X_train, y_train)[1])  # training data에 의한 정확도\n",
    "print(model.evaluate(X_valid, y_valid)[1])  # validation data에 의한 정확도\n",
    "print(model.evaluate(X_test, y_test)[1])    # test data에 의한 정확도"
   ]
  },
  {
   "cell_type": "code",
   "execution_count": null,
   "id": "49832a68-49a4-4480-832c-43432efd08b1",
   "metadata": {},
   "outputs": [],
   "source": []
  },
  {
   "cell_type": "markdown",
   "id": "0d9b5a17",
   "metadata": {},
   "source": [
    "정확도 & 손실 그래프"
   ]
  },
  {
   "cell_type": "code",
   "execution_count": 13,
   "id": "249ba0c1-be7a-4228-a6bb-f8a054d82267",
   "metadata": {},
   "outputs": [
    {
     "data": {
      "image/png": "[encoded data removed]",
      "text/plain": [
       "<Figure size 1500x500 with 2 Axes>"
      ]
     },
     "metadata": {},
     "output_type": "display_data"
    }
   ],
   "source": [
    "import numpy as np\n",
    "\n",
    "# plot에서 x축이 될 epoch을 설정\n",
    "epoch = np.arange(1, 11)    # 학습 시 10단계데 걸쳐 학습시켰기에 1~10까지의 숫자가 필요\n",
    "acc_train, acc_valid = hist.history['accuracy'], hist.history['val_accuracy']\n",
    "loss_train, loss_valid = hist.history['loss'], hist.history['val_loss']\n",
    "\n",
    "import matplotlib.pyplot as plt\n",
    "plt.figure(figsize=(15, 5)) # plot의 size를 설정\n",
    "\n",
    "# 정확도와 손실그래프를 한꺼번에 그리기 위해 subplot 설정\n",
    "# 정확도그래프 subplot\n",
    "plt.subplot(121)  # plt.subplot(1,2,1)과 같은 의미\n",
    "plt.plot(epoch, acc_train, 'b', marker='.', label='train_accuracy')     # train 정확도 plot을 그림\n",
    "plt.plot(epoch, acc_valid, 'r--', marker='.', label='valid_accuracy')   # validaition 정확도 plot 추가\n",
    "plt.title('Accuracy')\n",
    "plt.xlabel('Epochs')\n",
    "plt.ylabel('Accuracy')\n",
    "plt.legend()\n",
    "\n",
    "# 손실그래프 subplot\n",
    "plt.subplot(122)  # plt.subplot(1,2,2)와 같은 의미\n",
    "plt.plot(epoch, loss_train, 'b', marker='.', label='train_loss')\n",
    "plt.plot(epoch, loss_valid, 'r--', marker='.', label='valid_loss')\n",
    "plt.title('Loss')\n",
    "plt.xlabel('Epochs')\n",
    "plt.ylabel('Loss')\n",
    "plt.legend()\n",
    "\n",
    "plt.show()"
   ]
  },
  {
   "cell_type": "code",
   "execution_count": null,
   "id": "b7adda00-3c6e-4fb9-a4b7-89c029fe5a22",
   "metadata": {},
   "outputs": [],
   "source": []
  },
  {
   "cell_type": "code",
   "execution_count": null,
   "id": "10af88b6-7920-413a-b448-171025a10eaa",
   "metadata": {},
   "outputs": [],
   "source": []
  }
 ],
 "metadata": {
  "kernelspec": {
   "display_name": "Python 3 (ipykernel)",
   "language": "python",
   "name": "python3"
  },
  "language_info": {
   "codemirror_mode": {
    "name": "ipython",
    "version": 3
   },
   "file_extension": ".py",
   "mimetype": "text/x-python",
   "name": "python",
   "nbconvert_exporter": "python",
   "pygments_lexer": "ipython3",
   "version": "3.8.10"
  }
 },
 "nbformat": 4,
 "nbformat_minor": 5
}
