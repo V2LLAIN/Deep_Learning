{
 "cells": [
  {
   "cell_type": "code",
   "execution_count": 1,
   "id": "14619e98-b8e5-40dd-bada-5815999454d7",
   "metadata": {},
   "outputs": [],
   "source": [
    "import numpy as np"
   ]
  },
  {
   "cell_type": "markdown",
   "id": "f38b33dc-f13c-4723-a22b-3a179794e7a6",
   "metadata": {},
   "source": [
    "# input layer"
   ]
  },
  {
   "cell_type": "code",
   "execution_count": 4,
   "id": "474323b3-06fb-4a94-bc71-0c0277f27510",
   "metadata": {},
   "outputs": [
    {
     "data": {
      "text/plain": [
       "array([[2, 3],\n",
       "       [5, 1]])"
      ]
     },
     "execution_count": 4,
     "metadata": {},
     "output_type": "execute_result"
    }
   ],
   "source": [
    "data = np.array([[2,3], [5,1]])\n",
    "data"
   ]
  },
  {
   "cell_type": "markdown",
   "id": "d46e5d47-05fa-4815-8e7d-6b5ea4ba8c8f",
   "metadata": {},
   "source": [
    "### 행렬 -> vector"
   ]
  },
  {
   "cell_type": "code",
   "execution_count": 5,
   "id": "6f4d4ebc-2b09-48cd-8287-957ff302092d",
   "metadata": {},
   "outputs": [
    {
     "data": {
      "text/plain": [
       "array([2, 3, 5, 1])"
      ]
     },
     "execution_count": 5,
     "metadata": {},
     "output_type": "execute_result"
    }
   ],
   "source": [
    "x = data.reshape(-1); x"
   ]
  },
  {
   "cell_type": "code",
   "execution_count": 6,
   "id": "f59336ce-c02a-41fe-a8b2-21388967c2b2",
   "metadata": {},
   "outputs": [],
   "source": [
    "w1, b1 = np.array([2, 1, -3, 3]), 3\n",
    "w2, b2 = np.array([1, -3, 1, 3]), 3"
   ]
  },
  {
   "cell_type": "markdown",
   "id": "c2830242-ba45-45a9-aa8b-cc33a06a1709",
   "metadata": {},
   "source": [
    "### 가중합, Σ(wTx) + b 구하기"
   ]
  },
  {
   "cell_type": "code",
   "execution_count": 10,
   "id": "99c695aa-42f7-4ea4-be5d-9e245dbd4d0e",
   "metadata": {},
   "outputs": [
    {
     "data": {
      "text/plain": [
       "array([[ 2,  1, -3,  3],\n",
       "       [ 1, -3,  1,  3]])"
      ]
     },
     "execution_count": 10,
     "metadata": {},
     "output_type": "execute_result"
    }
   ],
   "source": [
    "wT = np.array([w1, w2])\n",
    "wT"
   ]
  },
  {
   "cell_type": "code",
   "execution_count": 12,
   "id": "dd75f6a6-9d76-4758-b1f6-af3732977a81",
   "metadata": {},
   "outputs": [
    {
     "data": {
      "text/plain": [
       "array([3, 3])"
      ]
     },
     "execution_count": 12,
     "metadata": {},
     "output_type": "execute_result"
    }
   ],
   "source": [
    "b = np.array([b1, b2])\n",
    "b"
   ]
  },
  {
   "cell_type": "code",
   "execution_count": 13,
   "id": "7eeeac03-3f58-4d10-be42-3c6ff1e8369f",
   "metadata": {},
   "outputs": [
    {
     "data": {
      "text/plain": [
       "array([-2,  4])"
      ]
     },
     "execution_count": 13,
     "metadata": {},
     "output_type": "execute_result"
    }
   ],
   "source": [
    "w_sum = np.dot(wT, x) + b\n",
    "w_sum"
   ]
  },
  {
   "cell_type": "markdown",
   "id": "2dfd2bdf-4077-495a-8290-254f9d104ab4",
   "metadata": {},
   "source": [
    "### activation function에 가중합 넣기"
   ]
  },
  {
   "cell_type": "code",
   "execution_count": 14,
   "id": "391faff6-e2a5-416f-94c6-a9133a5c480a",
   "metadata": {},
   "outputs": [
    {
     "data": {
      "text/plain": [
       "array([0.11920292, 0.98201379])"
      ]
     },
     "execution_count": 14,
     "metadata": {},
     "output_type": "execute_result"
    }
   ],
   "source": [
    "def sigmoid(x):\n",
    "    return 1 / (1 + np.exp(-x))\n",
    "\n",
    "sigmoid(w_sum)"
   ]
  },
  {
   "cell_type": "code",
   "execution_count": null,
   "id": "1ac53298-99d8-4a46-bfec-7779e71db201",
   "metadata": {},
   "outputs": [],
   "source": [
    "##"
   ]
  }
 ],
 "metadata": {
  "kernelspec": {
   "display_name": "Python 3 (ipykernel)",
   "language": "python",
   "name": "python3"
  },
  "language_info": {
   "codemirror_mode": {
    "name": "ipython",
    "version": 3
   },
   "file_extension": ".py",
   "mimetype": "text/x-python",
   "name": "python",
   "nbconvert_exporter": "python",
   "pygments_lexer": "ipython3",
   "version": "3.8.10"
  }
 },
 "nbformat": 4,
 "nbformat_minor": 5
}
