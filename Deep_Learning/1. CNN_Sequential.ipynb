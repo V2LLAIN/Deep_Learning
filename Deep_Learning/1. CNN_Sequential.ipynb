{
 "cells": [
  {
   "cell_type": "code",
   "execution_count": 1,
   "id": "ccbe7354-b0fa-4b28-af7e-bb6f782e5512",
   "metadata": {},
   "outputs": [
    {
     "name": "stderr",
     "output_type": "stream",
     "text": [
      "2023-01-18 11:32:09.847999: I tensorflow/core/platform/cpu_feature_guard.cc:193] This TensorFlow binary is optimized with oneAPI Deep Neural Network Library (oneDNN) to use the following CPU instructions in performance-critical operations:  AVX2 FMA\n",
      "To enable them in other operations, rebuild TensorFlow with the appropriate compiler flags.\n",
      "2023-01-18 11:32:09.955177: E tensorflow/stream_executor/cuda/cuda_blas.cc:2981] Unable to register cuBLAS factory: Attempting to register factory for plugin cuBLAS when one has already been registered\n"
     ]
    }
   ],
   "source": [
    "import numpy as np\n",
    "import tensorflow as tf"
   ]
  },
  {
   "cell_type": "markdown",
   "id": "5d2ce00a",
   "metadata": {},
   "source": [
    "랜덤시드값 설정"
   ]
  },
  {
   "cell_type": "code",
   "execution_count": 2,
   "id": "e001639c-484d-4892-b9e1-6ccb0fbc5bf4",
   "metadata": {},
   "outputs": [],
   "source": [
    "np.random.seed(0)\n",
    "tf.random.set_seed(0)"
   ]
  },
  {
   "cell_type": "markdown",
   "id": "b83f0174",
   "metadata": {},
   "source": [
    "데이터 불러오기_mnist dataset"
   ]
  },
  {
   "cell_type": "code",
   "execution_count": 3,
   "id": "3e28e5b8-f89c-4d9b-b5d2-dc1a0d0ad1ea",
   "metadata": {},
   "outputs": [],
   "source": [
    "from tensorflow.keras import datasets\n",
    "(X_train0, y_train0), (X_test0, y_test0) = datasets.mnist.load_data()"
   ]
  },
  {
   "cell_type": "code",
   "execution_count": 4,
   "id": "5d5d0c68-09b7-42c0-8267-127c0f2e82c7",
   "metadata": {},
   "outputs": [
    {
     "name": "stdout",
     "output_type": "stream",
     "text": [
      "(60000, 28, 28) [5 0 4 ... 5 6 8]\n",
      "(10000, 28, 28) [7 2 1 ... 4 5 6]\n"
     ]
    }
   ],
   "source": [
    "# original data의 차원 확인\n",
    "# (이미지 개수, 행, 열)의 feature data  [target data]\n",
    "print(X_train0.shape, y_train0)\n",
    "print(X_test0.shape, y_test0)"
   ]
  },
  {
   "cell_type": "code",
   "execution_count": null,
   "id": "fa3130d7",
   "metadata": {
    "collapsed": false,
    "jupyter": {
     "outputs_hidden": false
    }
   },
   "outputs": [],
   "source": []
  },
  {
   "cell_type": "markdown",
   "id": "cb34cef3",
   "metadata": {},
   "source": [
    "Original Data 시각화"
   ]
  },
  {
   "cell_type": "code",
   "execution_count": 5,
   "id": "f411e420-7a0b-4210-a4c6-ea18ff338d5f",
   "metadata": {},
   "outputs": [
    {
     "ename": "TypeError",
     "evalue": "imshow() missing 1 required positional argument: 'X'",
     "output_type": "error",
     "traceback": [
      "\u001b[0;31m---------------------------------------------------------------------------\u001b[0m",
      "\u001b[0;31mTypeError\u001b[0m                                 Traceback (most recent call last)",
      "Cell \u001b[0;32mIn [5], line 8\u001b[0m\n\u001b[1;32m      5\u001b[0m     plt\u001b[38;5;241m.\u001b[39msubplot(\u001b[38;5;241m2\u001b[39m, \u001b[38;5;241m5\u001b[39m, i\u001b[38;5;241m+\u001b[39m\u001b[38;5;241m1\u001b[39m)  \u001b[38;5;66;03m# subplot 설정\u001b[39;00m\n\u001b[1;32m      6\u001b[0m     plt\u001b[38;5;241m.\u001b[39mimshow(X_train0[i]\u001b[38;5;241m.\u001b[39mreshape((\u001b[38;5;241m28\u001b[39m, \u001b[38;5;241m28\u001b[39m)), cmap \u001b[38;5;241m=\u001b[39m \u001b[38;5;124m'\u001b[39m\u001b[38;5;124mGreys\u001b[39m\u001b[38;5;124m'\u001b[39m)\n\u001b[0;32m----> 8\u001b[0m \u001b[43mplt\u001b[49m\u001b[38;5;241;43m.\u001b[39;49m\u001b[43mimshow\u001b[49m\u001b[43m(\u001b[49m\u001b[43m)\u001b[49m\n",
      "File \u001b[0;32m/usr/local/lib/python3.8/dist-packages/matplotlib/_api/deprecation.py:454\u001b[0m, in \u001b[0;36mmake_keyword_only.<locals>.wrapper\u001b[0;34m(*args, **kwargs)\u001b[0m\n\u001b[1;32m    448\u001b[0m \u001b[38;5;28;01mif\u001b[39;00m \u001b[38;5;28mlen\u001b[39m(args) \u001b[38;5;241m>\u001b[39m name_idx:\n\u001b[1;32m    449\u001b[0m     warn_deprecated(\n\u001b[1;32m    450\u001b[0m         since, message\u001b[38;5;241m=\u001b[39m\u001b[38;5;124m\"\u001b[39m\u001b[38;5;124mPassing the \u001b[39m\u001b[38;5;132;01m%(name)s\u001b[39;00m\u001b[38;5;124m \u001b[39m\u001b[38;5;132;01m%(obj_type)s\u001b[39;00m\u001b[38;5;124m \u001b[39m\u001b[38;5;124m\"\u001b[39m\n\u001b[1;32m    451\u001b[0m         \u001b[38;5;124m\"\u001b[39m\u001b[38;5;124mpositionally is deprecated since Matplotlib \u001b[39m\u001b[38;5;132;01m%(since)s\u001b[39;00m\u001b[38;5;124m; the \u001b[39m\u001b[38;5;124m\"\u001b[39m\n\u001b[1;32m    452\u001b[0m         \u001b[38;5;124m\"\u001b[39m\u001b[38;5;124mparameter will become keyword-only \u001b[39m\u001b[38;5;132;01m%(removal)s\u001b[39;00m\u001b[38;5;124m.\u001b[39m\u001b[38;5;124m\"\u001b[39m,\n\u001b[1;32m    453\u001b[0m         name\u001b[38;5;241m=\u001b[39mname, obj_type\u001b[38;5;241m=\u001b[39m\u001b[38;5;124mf\u001b[39m\u001b[38;5;124m\"\u001b[39m\u001b[38;5;124mparameter of \u001b[39m\u001b[38;5;132;01m{\u001b[39;00mfunc\u001b[38;5;241m.\u001b[39m\u001b[38;5;18m__name__\u001b[39m\u001b[38;5;132;01m}\u001b[39;00m\u001b[38;5;124m()\u001b[39m\u001b[38;5;124m\"\u001b[39m)\n\u001b[0;32m--> 454\u001b[0m \u001b[38;5;28;01mreturn\u001b[39;00m \u001b[43mfunc\u001b[49m\u001b[43m(\u001b[49m\u001b[38;5;241;43m*\u001b[39;49m\u001b[43margs\u001b[49m\u001b[43m,\u001b[49m\u001b[43m \u001b[49m\u001b[38;5;241;43m*\u001b[39;49m\u001b[38;5;241;43m*\u001b[39;49m\u001b[43mkwargs\u001b[49m\u001b[43m)\u001b[49m\n",
      "\u001b[0;31mTypeError\u001b[0m: imshow() missing 1 required positional argument: 'X'"
     ]
    },
    {
     "data": {
      "image/png": "[encoded data removed]",
      "text/plain": [
       "<Figure size 800x500 with 10 Axes>"
      ]
     },
     "metadata": {},
     "output_type": "display_data"
    }
   ],
   "source": [
    "import matplotlib.pyplot as plt\n",
    "plt.figure(figsize=(8, 5))      # 출력될 plot의 size를 설정\n",
    "\n",
    "for i in range(2*5):    # 수많은 data를 모두 출력할 수 없으니 이미지 10개만 확인\n",
    "    plt.subplot(2, 5, i+1)  # subplot 설정\n",
    "    plt.imshow(X_train0[i].reshape((28, 28)), cmap = 'Greys')\n",
    "\n",
    "plt.imshow()"
   ]
  },
  {
   "cell_type": "code",
   "execution_count": null,
   "id": "9880cf57",
   "metadata": {
    "collapsed": false,
    "jupyter": {
     "outputs_hidden": false
    }
   },
   "outputs": [],
   "source": []
  },
  {
   "cell_type": "markdown",
   "id": "e4d7b031",
   "metadata": {},
   "source": [
    "target class 확인"
   ]
  },
  {
   "cell_type": "code",
   "execution_count": 6,
   "id": "86b30388-ddd8-42f3-ba22-11065687e9ff",
   "metadata": {},
   "outputs": [
    {
     "data": {
      "text/plain": [
       "{0, 1, 2, 3, 4, 5, 6, 7, 8, 9}"
      ]
     },
     "execution_count": 6,
     "metadata": {},
     "output_type": "execute_result"
    }
   ],
   "source": [
    "set(y_train0)"
   ]
  },
  {
   "cell_type": "code",
   "execution_count": null,
   "id": "82db3af7",
   "metadata": {
    "collapsed": false,
    "jupyter": {
     "outputs_hidden": false
    }
   },
   "outputs": [],
   "source": []
  },
  {
   "cell_type": "markdown",
   "id": "edcc8f15",
   "metadata": {},
   "source": [
    "feature data(channel 추가), scale 조정"
   ]
  },
  {
   "cell_type": "code",
   "execution_count": 7,
   "id": "081f87d1-fd3c-4981-9420-c9f0a2dfa6fb",
   "metadata": {},
   "outputs": [
    {
     "name": "stdout",
     "output_type": "stream",
     "text": [
      "(60000, 28, 28, 1)\n",
      "(10000, 28, 28, 1)\n"
     ]
    }
   ],
   "source": [
    "# channel을 추가해주고 픽셀은 0~255에 분포해서 최댓값이 1이 되도록 조정\n",
    "X_train = (X_train0.reshape(60000, 28, 28, 1)) / 255\n",
    "X_test = (X_test0.reshape(10000, 28, 28, 1)) / 255\n",
    "\n",
    "print(X_train.shape, X_test.shape, sep = \"\\n\")"
   ]
  },
  {
   "cell_type": "markdown",
   "id": "e6957448",
   "metadata": {},
   "source": [
    "target  One-hot Encoding"
   ]
  },
  {
   "cell_type": "code",
   "execution_count": 8,
   "id": "b0fbd713-758e-4bb0-a8ac-b62fb53486c2",
   "metadata": {},
   "outputs": [],
   "source": [
    "from tensorflow.keras.utils import to_categorical\n",
    "\n",
    "y_train = to_categorical(y_train0)\n",
    "y_test = to_categorical(y_test0)"
   ]
  },
  {
   "cell_type": "markdown",
   "id": "95c06c8e",
   "metadata": {},
   "source": [
    "CNN (합성곱 신경망) 생성"
   ]
  },
  {
   "cell_type": "code",
   "execution_count": 9,
   "id": "9f9bf4ff-9f48-4b3d-8e78-649eb25a2d61",
   "metadata": {},
   "outputs": [
    {
     "name": "stdout",
     "output_type": "stream",
     "text": [
      "Model: \"sequential\"\n",
      "_________________________________________________________________\n",
      " Layer (type)                Output Shape              Param #   \n",
      "=================================================================\n",
      " conv2d (Conv2D)             (None, 24, 24, 32)        832       \n",
      "                                                                 \n",
      " max_pooling2d (MaxPooling2D  (None, 12, 12, 32)       0         \n",
      " )                                                               \n",
      "                                                                 \n",
      " dropout (Dropout)           (None, 12, 12, 32)        0         \n",
      "                                                                 \n",
      " flatten (Flatten)           (None, 4608)              0         \n",
      "                                                                 \n",
      " dense (Dense)               (None, 1024)              4719616   \n",
      "                                                                 \n",
      " dropout_1 (Dropout)         (None, 1024)              0         \n",
      "                                                                 \n",
      " dense_1 (Dense)             (None, 10)                10250     \n",
      "                                                                 \n",
      "=================================================================\n",
      "Total params: 4,730,698\n",
      "Trainable params: 4,730,698\n",
      "Non-trainable params: 0\n",
      "_________________________________________________________________\n"
     ]
    },
    {
     "name": "stderr",
     "output_type": "stream",
     "text": [
      "2023-01-18 11:32:18.891320: I tensorflow/stream_executor/cuda/cuda_gpu_executor.cc:980] successful NUMA node read from SysFS had negative value (-1), but there must be at least one NUMA node, so returning NUMA node zero\n",
      "2023-01-18 11:32:18.895639: I tensorflow/stream_executor/cuda/cuda_gpu_executor.cc:980] successful NUMA node read from SysFS had negative value (-1), but there must be at least one NUMA node, so returning NUMA node zero\n",
      "2023-01-18 11:32:18.895989: I tensorflow/stream_executor/cuda/cuda_gpu_executor.cc:980] successful NUMA node read from SysFS had negative value (-1), but there must be at least one NUMA node, so returning NUMA node zero\n",
      "2023-01-18 11:32:18.896790: I tensorflow/core/platform/cpu_feature_guard.cc:193] This TensorFlow binary is optimized with oneAPI Deep Neural Network Library (oneDNN) to use the following CPU instructions in performance-critical operations:  AVX2 FMA\n",
      "To enable them in other operations, rebuild TensorFlow with the appropriate compiler flags.\n",
      "2023-01-18 11:32:18.897676: I tensorflow/stream_executor/cuda/cuda_gpu_executor.cc:980] successful NUMA node read from SysFS had negative value (-1), but there must be at least one NUMA node, so returning NUMA node zero\n",
      "2023-01-18 11:32:18.898038: I tensorflow/stream_executor/cuda/cuda_gpu_executor.cc:980] successful NUMA node read from SysFS had negative value (-1), but there must be at least one NUMA node, so returning NUMA node zero\n",
      "2023-01-18 11:32:18.898426: I tensorflow/stream_executor/cuda/cuda_gpu_executor.cc:980] successful NUMA node read from SysFS had negative value (-1), but there must be at least one NUMA node, so returning NUMA node zero\n",
      "2023-01-18 11:32:19.336634: I tensorflow/stream_executor/cuda/cuda_gpu_executor.cc:980] successful NUMA node read from SysFS had negative value (-1), but there must be at least one NUMA node, so returning NUMA node zero\n",
      "2023-01-18 11:32:19.336826: I tensorflow/stream_executor/cuda/cuda_gpu_executor.cc:980] successful NUMA node read from SysFS had negative value (-1), but there must be at least one NUMA node, so returning NUMA node zero\n",
      "2023-01-18 11:32:19.336968: I tensorflow/stream_executor/cuda/cuda_gpu_executor.cc:980] successful NUMA node read from SysFS had negative value (-1), but there must be at least one NUMA node, so returning NUMA node zero\n",
      "2023-01-18 11:32:19.337097: I tensorflow/core/common_runtime/gpu/gpu_device.cc:1616] Created device /job:localhost/replica:0/task:0/device:GPU:0 with 10400 MB memory:  -> device: 0, name: NVIDIA GeForce GTX 1080 Ti, pci bus id: 0000:02:00.0, compute capability: 6.1\n"
     ]
    }
   ],
   "source": [
    "from tensorflow.keras.models import Sequential\n",
    "from tensorflow.keras.layers import Dense, Conv2D\n",
    "from tensorflow.keras.layers import MaxPool2D, Flatten\n",
    "from tensorflow.keras.layers import Dropout\n",
    "\n",
    "n_class = len(set(y_train0))    # n_class = 10로 최종출력층에서 사용\n",
    "\n",
    "model = Sequential()\n",
    "# Conv2D로 합성층 추가, 32의 출력이미지, input의 차원을 입력\n",
    "# padding = 'valid'는 padding을 하지 않겠다는 의미\n",
    "# padding = 'same'은 padding을 입력데이터의 크기와 동일하게 조정\n",
    "model.add(Conv2D(32, kernel_size=(5,5), input_shape=(28, 28, 1), padding='valid', activation='relu'))\n",
    "model.add(MaxPool2D(pool_size=(2,2))) #pooling size 설정\n",
    "model.add(Dropout(0.25))  # 사용하지 않을 노드의 비율(0.25)\n",
    "model.add(Flatten())      # 최종 output형태를 고려, 행렬을 Flatten()으로 vector로 펼친다.\n",
    "\n",
    "model.add(Dense(1024, activation='relu'))\n",
    "model.add(Dropout(0.5))\n",
    "model.add(Dense(n_class, activation='softmax'))  # 활성화 함수를 softmax로 설정해 최종 출력층을 구한다.(n_class)\n",
    "\n",
    "model.summary()"
   ]
  },
  {
   "cell_type": "code",
   "execution_count": null,
   "id": "7c549eb6",
   "metadata": {
    "collapsed": false,
    "jupyter": {
     "outputs_hidden": false
    }
   },
   "outputs": [],
   "source": []
  },
  {
   "cell_type": "markdown",
   "id": "4b629421",
   "metadata": {},
   "source": [
    "model 컴파일"
   ]
  },
  {
   "cell_type": "code",
   "execution_count": 10,
   "id": "299af0fa-42c9-4d8f-9bce-bf4b71b8c2d3",
   "metadata": {},
   "outputs": [],
   "source": [
    "model.compile(loss='categorical_crossentropy', optimizer='adam', metrics=['accuracy'])"
   ]
  },
  {
   "cell_type": "markdown",
   "id": "daf30d4a",
   "metadata": {},
   "source": [
    "학습 진행"
   ]
  },
  {
   "cell_type": "code",
   "execution_count": 13,
   "id": "d5c8881c-69f4-42f8-8e97-915c02d23d55",
   "metadata": {},
   "outputs": [
    {
     "name": "stdout",
     "output_type": "stream",
     "text": [
      "Epoch 1/100\n",
      "600/600 [==============================] - 2s 3ms/step - loss: 0.0043 - accuracy: 0.9986\n",
      "Epoch 2/100\n",
      "600/600 [==============================] - 2s 3ms/step - loss: 0.0060 - accuracy: 0.9980\n",
      "Epoch 3/100\n",
      "600/600 [==============================] - 2s 3ms/step - loss: 0.0059 - accuracy: 0.9982\n",
      "Epoch 4/100\n",
      "600/600 [==============================] - 2s 3ms/step - loss: 0.0049 - accuracy: 0.9983\n",
      "Epoch 5/100\n",
      "600/600 [==============================] - 2s 3ms/step - loss: 0.0065 - accuracy: 0.9981\n",
      "Epoch 6/100\n",
      "600/600 [==============================] - 2s 3ms/step - loss: 0.0044 - accuracy: 0.9985\n",
      "Epoch 7/100\n",
      "600/600 [==============================] - 2s 3ms/step - loss: 0.0059 - accuracy: 0.9980\n",
      "Epoch 8/100\n",
      "600/600 [==============================] - 2s 3ms/step - loss: 0.0047 - accuracy: 0.9987\n",
      "Epoch 9/100\n",
      "600/600 [==============================] - 2s 3ms/step - loss: 0.0044 - accuracy: 0.9987\n",
      "Epoch 10/100\n",
      "600/600 [==============================] - 2s 3ms/step - loss: 0.0055 - accuracy: 0.9983\n",
      "Epoch 11/100\n",
      "600/600 [==============================] - 2s 3ms/step - loss: 0.0053 - accuracy: 0.9985\n",
      "Epoch 12/100\n",
      "600/600 [==============================] - 2s 3ms/step - loss: 0.0046 - accuracy: 0.9987\n",
      "Epoch 13/100\n",
      "600/600 [==============================] - 2s 3ms/step - loss: 0.0038 - accuracy: 0.9988\n",
      "Epoch 14/100\n",
      "600/600 [==============================] - 2s 3ms/step - loss: 0.0053 - accuracy: 0.9988\n",
      "Epoch 15/100\n",
      "600/600 [==============================] - 2s 3ms/step - loss: 0.0047 - accuracy: 0.9987\n",
      "Epoch 16/100\n",
      "600/600 [==============================] - 2s 3ms/step - loss: 0.0042 - accuracy: 0.9987\n",
      "Epoch 17/100\n",
      "600/600 [==============================] - 2s 3ms/step - loss: 0.0052 - accuracy: 0.9985\n",
      "Epoch 18/100\n",
      "600/600 [==============================] - 2s 3ms/step - loss: 0.0059 - accuracy: 0.9984\n",
      "Epoch 19/100\n",
      "600/600 [==============================] - 2s 3ms/step - loss: 0.0043 - accuracy: 0.9989\n",
      "Epoch 20/100\n",
      "600/600 [==============================] - 2s 3ms/step - loss: 0.0039 - accuracy: 0.9987\n",
      "Epoch 21/100\n",
      "600/600 [==============================] - 2s 3ms/step - loss: 0.0048 - accuracy: 0.9987\n",
      "Epoch 22/100\n",
      "600/600 [==============================] - 2s 3ms/step - loss: 0.0055 - accuracy: 0.9985\n",
      "Epoch 23/100\n",
      "600/600 [==============================] - 2s 3ms/step - loss: 0.0042 - accuracy: 0.9988\n",
      "Epoch 24/100\n",
      "600/600 [==============================] - 2s 3ms/step - loss: 0.0036 - accuracy: 0.9990\n",
      "Epoch 25/100\n",
      "600/600 [==============================] - 2s 3ms/step - loss: 0.0037 - accuracy: 0.9990\n",
      "Epoch 26/100\n",
      "600/600 [==============================] - 2s 3ms/step - loss: 0.0039 - accuracy: 0.9988\n",
      "Epoch 27/100\n",
      "600/600 [==============================] - 2s 3ms/step - loss: 0.0034 - accuracy: 0.9991\n",
      "Epoch 28/100\n",
      "600/600 [==============================] - 2s 3ms/step - loss: 0.0049 - accuracy: 0.9987\n",
      "Epoch 29/100\n",
      "600/600 [==============================] - 2s 3ms/step - loss: 0.0041 - accuracy: 0.9990\n",
      "Epoch 30/100\n",
      "600/600 [==============================] - 2s 3ms/step - loss: 0.0031 - accuracy: 0.9990\n",
      "Epoch 31/100\n",
      "600/600 [==============================] - 2s 3ms/step - loss: 0.0031 - accuracy: 0.9992\n",
      "Epoch 32/100\n",
      "600/600 [==============================] - 2s 3ms/step - loss: 0.0035 - accuracy: 0.9991\n",
      "Epoch 33/100\n",
      "600/600 [==============================] - 2s 3ms/step - loss: 0.0057 - accuracy: 0.9985\n",
      "Epoch 34/100\n",
      "600/600 [==============================] - 2s 3ms/step - loss: 0.0047 - accuracy: 0.9988\n",
      "Epoch 35/100\n",
      "600/600 [==============================] - 2s 3ms/step - loss: 0.0037 - accuracy: 0.9991\n",
      "Epoch 36/100\n",
      "600/600 [==============================] - 2s 3ms/step - loss: 0.0048 - accuracy: 0.9990\n",
      "Epoch 37/100\n",
      "600/600 [==============================] - 2s 3ms/step - loss: 0.0036 - accuracy: 0.9990\n",
      "Epoch 38/100\n",
      "600/600 [==============================] - 2s 3ms/step - loss: 0.0042 - accuracy: 0.9991\n",
      "Epoch 39/100\n",
      "600/600 [==============================] - 2s 3ms/step - loss: 0.0056 - accuracy: 0.9986\n",
      "Epoch 40/100\n",
      "600/600 [==============================] - 2s 3ms/step - loss: 0.0035 - accuracy: 0.9991\n",
      "Epoch 41/100\n",
      "600/600 [==============================] - 2s 3ms/step - loss: 0.0044 - accuracy: 0.9991\n",
      "Epoch 42/100\n",
      "600/600 [==============================] - 2s 3ms/step - loss: 0.0048 - accuracy: 0.9989\n",
      "Epoch 43/100\n",
      "600/600 [==============================] - 2s 3ms/step - loss: 0.0038 - accuracy: 0.9991\n",
      "Epoch 44/100\n",
      "600/600 [==============================] - 2s 3ms/step - loss: 0.0030 - accuracy: 0.9991\n",
      "Epoch 45/100\n",
      "600/600 [==============================] - 2s 3ms/step - loss: 0.0031 - accuracy: 0.9991\n",
      "Epoch 46/100\n",
      "600/600 [==============================] - 2s 3ms/step - loss: 0.0028 - accuracy: 0.9993\n",
      "Epoch 47/100\n",
      "600/600 [==============================] - 2s 3ms/step - loss: 0.0040 - accuracy: 0.9990\n",
      "Epoch 48/100\n",
      "600/600 [==============================] - 2s 3ms/step - loss: 0.0043 - accuracy: 0.9989\n",
      "Epoch 49/100\n",
      "600/600 [==============================] - 2s 3ms/step - loss: 0.0038 - accuracy: 0.9990\n",
      "Epoch 50/100\n",
      "600/600 [==============================] - 2s 3ms/step - loss: 0.0042 - accuracy: 0.9990\n",
      "Epoch 51/100\n",
      "600/600 [==============================] - 2s 3ms/step - loss: 0.0025 - accuracy: 0.9994\n",
      "Epoch 52/100\n",
      "600/600 [==============================] - 2s 3ms/step - loss: 0.0034 - accuracy: 0.9991\n",
      "Epoch 53/100\n",
      "600/600 [==============================] - 2s 3ms/step - loss: 0.0042 - accuracy: 0.9989\n",
      "Epoch 54/100\n",
      "600/600 [==============================] - 2s 3ms/step - loss: 0.0024 - accuracy: 0.9995\n",
      "Epoch 55/100\n",
      "600/600 [==============================] - 2s 3ms/step - loss: 0.0046 - accuracy: 0.9990\n",
      "Epoch 56/100\n",
      "600/600 [==============================] - 2s 3ms/step - loss: 0.0026 - accuracy: 0.9993\n",
      "Epoch 57/100\n",
      "600/600 [==============================] - 2s 3ms/step - loss: 0.0036 - accuracy: 0.9991\n",
      "Epoch 58/100\n",
      "600/600 [==============================] - 2s 3ms/step - loss: 0.0043 - accuracy: 0.9990\n",
      "Epoch 59/100\n",
      "600/600 [==============================] - 2s 3ms/step - loss: 0.0060 - accuracy: 0.9986\n",
      "Epoch 60/100\n",
      "600/600 [==============================] - 2s 3ms/step - loss: 0.0019 - accuracy: 0.9995\n",
      "Epoch 61/100\n",
      "600/600 [==============================] - 2s 3ms/step - loss: 0.0034 - accuracy: 0.9991\n",
      "Epoch 62/100\n",
      "600/600 [==============================] - 2s 3ms/step - loss: 0.0029 - accuracy: 0.9993\n",
      "Epoch 63/100\n",
      "600/600 [==============================] - 2s 3ms/step - loss: 0.0040 - accuracy: 0.9991\n",
      "Epoch 64/100\n",
      "600/600 [==============================] - 2s 3ms/step - loss: 0.0048 - accuracy: 0.9989\n",
      "Epoch 65/100\n",
      "600/600 [==============================] - 2s 3ms/step - loss: 0.0038 - accuracy: 0.9993\n",
      "Epoch 66/100\n",
      "600/600 [==============================] - 2s 3ms/step - loss: 0.0050 - accuracy: 0.9989\n",
      "Epoch 67/100\n",
      "600/600 [==============================] - 2s 3ms/step - loss: 0.0051 - accuracy: 0.9989\n",
      "Epoch 68/100\n",
      "600/600 [==============================] - 2s 3ms/step - loss: 0.0026 - accuracy: 0.9993\n",
      "Epoch 69/100\n",
      "600/600 [==============================] - 2s 3ms/step - loss: 0.0044 - accuracy: 0.9990\n",
      "Epoch 70/100\n",
      "600/600 [==============================] - 2s 3ms/step - loss: 0.0032 - accuracy: 0.9993\n",
      "Epoch 71/100\n",
      "600/600 [==============================] - 2s 3ms/step - loss: 0.0050 - accuracy: 0.9991\n",
      "Epoch 72/100\n",
      "600/600 [==============================] - 2s 3ms/step - loss: 0.0032 - accuracy: 0.9993\n",
      "Epoch 73/100\n",
      "600/600 [==============================] - 2s 3ms/step - loss: 0.0047 - accuracy: 0.9991\n",
      "Epoch 74/100\n",
      "600/600 [==============================] - 2s 3ms/step - loss: 0.0059 - accuracy: 0.9989\n",
      "Epoch 75/100\n",
      "600/600 [==============================] - 2s 3ms/step - loss: 0.0029 - accuracy: 0.9992\n",
      "Epoch 76/100\n",
      "600/600 [==============================] - 2s 3ms/step - loss: 0.0038 - accuracy: 0.9991\n",
      "Epoch 77/100\n",
      "600/600 [==============================] - 2s 3ms/step - loss: 0.0051 - accuracy: 0.9990\n",
      "Epoch 78/100\n",
      "600/600 [==============================] - 2s 3ms/step - loss: 0.0037 - accuracy: 0.9992\n",
      "Epoch 79/100\n",
      "600/600 [==============================] - 2s 3ms/step - loss: 0.0044 - accuracy: 0.9991\n",
      "Epoch 80/100\n",
      "600/600 [==============================] - 2s 3ms/step - loss: 0.0027 - accuracy: 0.9994\n",
      "Epoch 81/100\n",
      "600/600 [==============================] - 2s 3ms/step - loss: 0.0036 - accuracy: 0.9992\n",
      "Epoch 82/100\n",
      "600/600 [==============================] - 2s 3ms/step - loss: 0.0044 - accuracy: 0.9991\n",
      "Epoch 83/100\n",
      "600/600 [==============================] - 2s 3ms/step - loss: 0.0046 - accuracy: 0.9991\n",
      "Epoch 84/100\n",
      "600/600 [==============================] - 2s 3ms/step - loss: 0.0034 - accuracy: 0.9993\n",
      "Epoch 85/100\n",
      "600/600 [==============================] - 2s 3ms/step - loss: 0.0038 - accuracy: 0.9994\n",
      "Epoch 86/100\n",
      "600/600 [==============================] - 2s 3ms/step - loss: 0.0037 - accuracy: 0.9993\n",
      "Epoch 87/100\n",
      "600/600 [==============================] - 2s 3ms/step - loss: 0.0036 - accuracy: 0.9993\n",
      "Epoch 88/100\n",
      "600/600 [==============================] - 2s 3ms/step - loss: 0.0021 - accuracy: 0.9994\n",
      "Epoch 89/100\n",
      "600/600 [==============================] - 2s 3ms/step - loss: 0.0045 - accuracy: 0.9991\n",
      "Epoch 90/100\n",
      "600/600 [==============================] - 2s 3ms/step - loss: 0.0034 - accuracy: 0.9994\n",
      "Epoch 91/100\n",
      "600/600 [==============================] - 2s 3ms/step - loss: 0.0051 - accuracy: 0.9992\n",
      "Epoch 92/100\n",
      "600/600 [==============================] - 2s 3ms/step - loss: 0.0035 - accuracy: 0.9992\n",
      "Epoch 93/100\n",
      "600/600 [==============================] - 2s 3ms/step - loss: 0.0043 - accuracy: 0.9990\n",
      "Epoch 94/100\n",
      "600/600 [==============================] - 2s 3ms/step - loss: 0.0033 - accuracy: 0.9994\n",
      "Epoch 95/100\n",
      "600/600 [==============================] - 2s 3ms/step - loss: 0.0040 - accuracy: 0.9991\n",
      "Epoch 96/100\n",
      "600/600 [==============================] - 2s 3ms/step - loss: 0.0034 - accuracy: 0.9994\n",
      "Epoch 97/100\n",
      "600/600 [==============================] - 2s 3ms/step - loss: 0.0036 - accuracy: 0.9993\n",
      "Epoch 98/100\n",
      "600/600 [==============================] - 2s 3ms/step - loss: 0.0048 - accuracy: 0.9992\n",
      "Epoch 99/100\n",
      "600/600 [==============================] - 2s 3ms/step - loss: 0.0038 - accuracy: 0.9992\n",
      "Epoch 100/100\n",
      "600/600 [==============================] - 2s 3ms/step - loss: 0.0029 - accuracy: 0.9993\n"
     ]
    }
   ],
   "source": [
    "hist = model.fit(X_train, y_train, epochs=100, batch_size=100)"
   ]
  },
  {
   "cell_type": "markdown",
   "id": "b36a5c04",
   "metadata": {},
   "source": [
    "model 평가"
   ]
  },
  {
   "cell_type": "code",
   "execution_count": 14,
   "id": "1d85713d-2545-42ee-aa06-2cd20ebd2a9b",
   "metadata": {},
   "outputs": [
    {
     "name": "stdout",
     "output_type": "stream",
     "text": [
      "1875/1875 [==============================] - 2s 1ms/step - loss: 1.0363e-06 - accuracy: 1.0000\n",
      "[1.0362750799686182e-06, 1.0]\n",
      "313/313 [==============================] - 0s 1ms/step - loss: 0.1028 - accuracy: 0.9924\n",
      "[0.10282385349273682, 0.9923999905586243]\n"
     ]
    }
   ],
   "source": [
    "print(model.evaluate(X_train, y_train)[1])\n",
    "print(model.evaluate(X_test, y_test)[1])"
   ]
  },
  {
   "cell_type": "markdown",
   "id": "721ce3f4",
   "metadata": {},
   "source": [
    "오답 데이터 확인"
   ]
  },
  {
   "cell_type": "code",
   "execution_count": 18,
   "id": "1899bbed-42e1-449a-9f01-30bbcc366d8e",
   "metadata": {},
   "outputs": [
    {
     "name": "stdout",
     "output_type": "stream",
     "text": [
      "313/313 [==============================] - 0s 964us/step\n",
      "[2.3999135e-08 7.0834022e-07 9.6121005e-07 2.2538343e-05 9.7268131e-09\n",
      " 3.4149470e-09 2.3432700e-11 9.9996758e-01 5.0745382e-07 7.6773804e-06]\n"
     ]
    }
   ],
   "source": [
    "y_pred_hot = model.predict(X_test)\n",
    "print(y_pred_hot[0])"
   ]
  },
  {
   "cell_type": "code",
   "execution_count": 19,
   "id": "4b629534-db69-46a1-ba17-2c20e690c4db",
   "metadata": {},
   "outputs": [
    {
     "data": {
      "text/plain": [
       "array([7, 2, 1, ..., 4, 5, 6])"
      ]
     },
     "execution_count": 19,
     "metadata": {},
     "output_type": "execute_result"
    }
   ],
   "source": [
    "import numpy as np\n",
    "\n",
    "# 위를 출력값에서 예측값이 원-핫인코딩 형태임을 확인할 수 있었다.\n",
    "# 따라서 np.argmax()로 원-핫인코딩형태를 원래 숫자로 쉽게 바꿀 수 있다.\n",
    "y_pred = np.argmax(y_pred_hot, axis=1)\n",
    "y_pred  # 결과를 보면 본래의 숫자로 돌아온 것을 알 수 있다."
   ]
  },
  {
   "cell_type": "code",
   "execution_count": 20,
   "id": "20d76cd9-2cbb-4812-b4b2-5c79bb0e06dc",
   "metadata": {},
   "outputs": [],
   "source": [
    "diff = y_test0 - y_pred     #실제값과 예측값의 차이를 구한다.\n",
    "diff_idx = []\n",
    "\n",
    "# (예측을 잘 해서 같다면 0, 다르다면 1이 나올 것)\n",
    "for i in range(len(y_test0)):\n",
    "    if (diff[i] != 0):\n",
    "        diff_idx.append(i)"
   ]
  },
  {
   "cell_type": "markdown",
   "id": "c0e8a7d7",
   "metadata": {},
   "source": [
    "오답데이터 시각화"
   ]
  },
  {
   "cell_type": "code",
   "execution_count": 21,
   "id": "171ae267-3292-458a-87dc-25b8eb4a29d6",
   "metadata": {},
   "outputs": [
    {
     "data": {
      "image/png": "[encoded data removed]",
      "text/plain": [
       "<Figure size 800x500 with 10 Axes>"
      ]
     },
     "metadata": {},
     "output_type": "display_data"
    }
   ],
   "source": [
    "import matplotlib.pyplot as plt\n",
    "plt.figure(figsize=(8, 5))\n",
    "\n",
    "for i in range(2*5):\n",
    "    plt.subplot(2, 5, i+1)\n",
    "    idx = diff_idx[i]\n",
    "    plt.imshow(X_test0[idx].reshape(28, 28), cmap='Greys')\n",
    "plt.show()\n",
    "# 결과를 통해 육안으로도 숫자를 구분하기 어려운 데이터임을 알 수 있다."
   ]
  },
  {
   "cell_type": "code",
   "execution_count": null,
   "id": "8ff65bba-110d-496d-a30f-9a127d6f199c",
   "metadata": {},
   "outputs": [],
   "source": []
  },
  {
   "cell_type": "code",
   "execution_count": null,
   "id": "86d4a525-510f-4445-af22-a416f88ed9a8",
   "metadata": {},
   "outputs": [],
   "source": []
  },
  {
   "cell_type": "code",
   "execution_count": null,
   "id": "08f922b0-357f-4ea4-83d4-0c7be2b81c40",
   "metadata": {
    "pycharm": {
     "is_executing": true
    }
   },
   "outputs": [],
   "source": []
  },
  {
   "cell_type": "code",
   "execution_count": null,
   "id": "125d0b6f-cb66-44f5-9329-a99e94e6becd",
   "metadata": {},
   "outputs": [],
   "source": []
  }
 ],
 "metadata": {
  "kernelspec": {
   "display_name": "Python 3 (ipykernel)",
   "language": "python",
   "name": "python3"
  },
  "language_info": {
   "codemirror_mode": {
    "name": "ipython",
    "version": 3
   },
   "file_extension": ".py",
   "mimetype": "text/x-python",
   "name": "python",
   "nbconvert_exporter": "python",
   "pygments_lexer": "ipython3",
   "version": "3.8.10"
  }
 },
 "nbformat": 4,
 "nbformat_minor": 5
}
