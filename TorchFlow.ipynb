{
 "cells": [
  {
   "cell_type": "code",
   "execution_count": 2,
   "id": "b0a7b680-1be6-4964-a0bd-3759019fb3cb",
   "metadata": {},
   "outputs": [
    {
     "name": "stderr",
     "output_type": "stream",
     "text": [
      "2023-06-21 09:53:12.501369: I tensorflow/core/platform/cpu_feature_guard.cc:193] This TensorFlow binary is optimized with oneAPI Deep Neural Network Library (oneDNN) to use the following CPU instructions in performance-critical operations:  AVX2 FMA\n",
      "To enable them in other operations, rebuild TensorFlow with the appropriate compiler flags.\n",
      "2023-06-21 09:53:12.703439: E tensorflow/stream_executor/cuda/cuda_blas.cc:2981] Unable to register cuBLAS factory: Attempting to register factory for plugin cuBLAS when one has already been registered\n"
     ]
    }
   ],
   "source": [
    "import cv2, json, shutil, re\n",
    "import matplotlib.pyplot as plt\n",
    "import numpy as np\n",
    "import tensorflow as tf\n",
    "import time, os,datetime\n",
    "os.environ[\"CUDA_DEVICE_ORDER\"]=\"PCI_BUS_ID\"\n",
    "os.environ[\"CUDA_VISIBLE_DEVICES\"]=\"1\""
   ]
  },
  {
   "cell_type": "code",
   "execution_count": 4,
   "id": "b7d6e0d4-3762-491f-ae41-17dce428707b",
   "metadata": {},
   "outputs": [],
   "source": [
    "class node:\n",
    "    __version__='1.1.1'\n",
    "    \n",
    "    def __init__(self, w=1, b=0):\n",
    "        self.w = np.array(w, np.float32)\n",
    "        self.b = np.array(b, np.float32)\n",
    "        \n",
    "        self.prev_node = None\n",
    "        self.next_node = None\n",
    "        self.X = None\n",
    "        \n",
    "        self.w_history = [float(self.w)]\n",
    "        self.b_history = [float(self.b)]\n",
    "        \n",
    "    def __call__(self, node):\n",
    "        self.prev_node = node\n",
    "        node.next_node = self\n",
    "        return self\n",
    "    \n",
    "    def forward(self, X):\n",
    "        self.X = X\n",
    "        return self.w*x + self.b\n",
    "    \n",
    "    def grad(self, X=None):\n",
    "        if X is None:\n",
    "            X = self.X\n",
    "            \n",
    "        # 다음 layer(next_node)를 가져와 곱하는 코드(재귀형태: L1->L2->...)\n",
    "        grad = self.next_node.grad()[0]  \n",
    "        return (X*grad, 1*grad)\n",
    "    \n",
    "    def backward(self, grad=None, optimizer=None):\n",
    "        if grad is None:\n",
    "            grad = self.grad()\n",
    "            \n",
    "        # 자신의 grad호출 후 grad[0], grad[1] 할당\n",
    "        # 이때, grad[0]은 weight, grad[1]은 bias\n",
    "        self.w -= optimizer(self, np.mean(grad[0]))\n",
    "        self.b -= optimizer(self, np.mean(grad[1]))\n",
    "        \n",
    "        self.w_history.append(float(self.w))\n",
    "        self.b_history.append(float(self.b))"
   ]
  },
  {
   "cell_type": "code",
   "execution_count": 17,
   "id": "30a7008b-a4da-4aca-9135-cdb9e5f3f6eb",
   "metadata": {},
   "outputs": [],
   "source": [
    "class optimizers:\n",
    "    def __init__(self, name=None, learning_rate=None, **kwargs):\n",
    "        if name == 'SGD':\n",
    "            self.optimizer = SGD(learning_rate=0.01)\n",
    "        if name == 'Adam':\n",
    "            self.optimizer = Adam(learning_rate=0.001)      "
   ]
  },
  {
   "cell_type": "markdown",
   "id": "678adfaf-7eee-46af-ad3c-d5902d5bdb70",
   "metadata": {},
   "source": [
    "![nn](./optimizer.png)"
   ]
  },
  {
   "cell_type": "code",
   "execution_count": 20,
   "id": "1f1c3b8c-95fa-4a67-9496-a89208305a52",
   "metadata": {},
   "outputs": [],
   "source": [
    "class SGD(optimizers):\n",
    "    def __init__(self, \n",
    "                learning_rate=0.01, momentum=0.0, epsilon=1e-7,\n",
    "                 weight_decay=None, name=\"SGD\", **kwargs):\n",
    "        \n",
    "        super().__init__(name=name, learning_rate=learning_rate)\n",
    "        self.momentum = momentum\n",
    "        self.weight_decay = weight_decay\n",
    "        \n",
    "        self.v = {}\n",
    "        \n",
    "    def __call__(self, node, grad):\n",
    "        if not node in self.v:\n",
    "            self.v[node] = grad\n",
    "        \n",
    "        else:\n",
    "            self.v[node] = learning_rate*self.v[node] - self.epsilon*grad\n",
    "        \n",
    "        return self.v[node]\n",
    "        \n",
    "        \n",
    "        \n",
    "        \n",
    "        \n",
    "\n",
    "class Adam(optimizers):\n",
    "    def __init__(self, \n",
    "                learning_rate=0.001,\n",
    "                beta_1=0.9, beta_2=0.999, epsilon=1e-7,\n",
    "                weight_decay=None, name=\"Adam\", **kwargs):\n",
    "        \n",
    "        super().__init__(name=name, learning_rate=learning_rate)\n",
    "        self.beta_1 = beta_1\n",
    "        self.beta_2 = beta_2\n",
    "        self.epsilon = epsilon\n",
    "        \n",
    "        # gradient값 저장\n",
    "        self.m = {}  # gradient의 지수이동평균\n",
    "        self.v = {}  # gradient제곱의 지수이동평균\n",
    "        \n",
    "    def __call__(self, node, grad):\n",
    "        if not node in self.m:\n",
    "            self.m[node] = grad\n",
    "            \n",
    "        else:\n",
    "            self.m[node] = self.beta_1*self.m[node] + (1-self.beta_1)*grad\n",
    "        \n",
    "        if not node in self.v:\n",
    "            self.v[node] = grad**2\n",
    "            \n",
    "        else:\n",
    "            self.v[node] = self.beta_2*self.v[node] + (1-self.beta_2)*grad**2\n",
    "            \n",
    "        m_hat = self.m[node] / (1-self.beta_1)\n",
    "        v_hat = self.v[node] / (1-self.beta_2)\n",
    "        \n",
    "        update = self.learning_rate * m_hat / (np.sqrt(v_hat) + self.epsilon)\n",
    "        \n",
    "        return update"
   ]
  },
  {
   "cell_type": "code",
   "execution_count": null,
   "id": "7cd948e4-6eb7-49f9-b3e3-ee817797cb4c",
   "metadata": {},
   "outputs": [],
   "source": []
  },
  {
   "cell_type": "code",
   "execution_count": 27,
   "id": "5eaf41c6-c440-45c9-8853-0ec21fb6ceee",
   "metadata": {},
   "outputs": [],
   "source": [
    "class Activation:\n",
    "    def __init__(self):\n",
    "        self.prev_node = None\n",
    "        self.next_node = None\n",
    "        self.X = None"
   ]
  },
  {
   "cell_type": "code",
   "execution_count": null,
   "id": "2bcbe1c4-def3-438f-b143-46d6e3d9da9e",
   "metadata": {},
   "outputs": [],
   "source": [
    "class ReLU(Activation):\n",
    "    def __init__(self):\n",
    "        super().__init__()\n",
    "    \n",
    "    def __call__(self, node):\n",
    "        self.prev_node = node\n",
    "        self.next_node = self\n",
    "        return self\n",
    "    \n",
    "    def forward(self, X):\n",
    "        self.X = X\n",
    "        return (self.X > 0).astype(np.float32) * X\n",
    "    \n",
    "    def grad(self, X=None):\n",
    "        if X is None:\n",
    "            X = self.X\n",
    "        \n",
    "        grad = self.next_node.grad()[0]\n",
    "        return ((self.X > 0).astype(np.float32)*grad, )\n",
    "    \n",
    "    def backward(self, grad=None, optimizer=None):\n",
    "        pass\n",
    "    \n",
    "\n",
    "    \n",
    "# 수치적 안정화된 softmax는 극도록 크거나 작은 양수, 음수에도 수치오차가 작다.\n",
    "# 따라서 softmax는 수치적 안정화가 필요하다: softmax(z) = softmax(z - max(z_i))\n",
    "\n",
    "# z = x - max(x)\n",
    "# softmax = np.exp(z) / np.sum(np.exp(z))\n",
    "\n",
    "class softmax(Activation):\n",
    "    def __init_(self):\n",
    "        super().__init__()\n",
    "        \n",
    "    def __call_(self, node):\n",
    "        self.prev_node = node\n",
    "        self.next_node = self\n",
    "        return self\n",
    "    \n",
    "    def forward(self, X):\n",
    "        self.X = X\n",
    "        z = self.X - np.max(X, axis=1, keepdims=True)\n",
    "        exp_values = np.exp(z)\n",
    "        softmax_values = exp_values / np.sum(exp_values, axis=1, keepdims=True)\n",
    "        return softmax_values\n",
    "    \n",
    "    \n",
    "    def grad(self, grad=None):\n",
    "        if grad is None:\n",
    "            grad = self.next_node.grad()\n",
    "        \n",
    "        softmax_grad = self.softmax_values * grad\n",
    "        sum_softmax_grad = np.sum(softmax_grad, axis=1, keepdims=True)\n",
    "        return softmax_grad - self.softmax_values * sum_softmax_grad\n",
    "    \n",
    "        \n",
    "    def backward(self, grad=None, optimizer=None):\n",
    "        pass"
   ]
  },
  {
   "cell_type": "code",
   "execution_count": null,
   "id": "f44e1a05-393c-4087-a11c-016d795c83c4",
   "metadata": {},
   "outputs": [],
   "source": []
  },
  {
   "cell_type": "code",
   "execution_count": 88,
   "id": "9ce78b2d-0f3d-45a7-b719-6c1e7cd3f3ff",
   "metadata": {},
   "outputs": [],
   "source": [
    "class CCE_Loss:\n",
    "    def __init__(self):\n",
    "        self.previous_node=None\n",
    "        self.Y=None\n",
    "        self.P=None\n",
    "        self.n=None\n",
    "    \n",
    "    def __call__(self,node):  \n",
    "        self.previous_node=node\n",
    "        node.next_node=self\n",
    "        return self\n",
    "        \n",
    "    def compute_loss(self, Y, P):  # forward역할, 가장 마지막 층이기에 backward함수 필요X\n",
    "        self.Y=Y   # truth\n",
    "        self.P=P   # predict\n",
    "        self.n=len(Y)\n",
    "        \n",
    "        epsilon = 1e-7\n",
    "        \n",
    "        P = np.clip(P, epsilon, 1-epsilon)  # P를 0~1로 제한\n",
    "\n",
    "        # 정답라벨 on-hot encoding\n",
    "        if len(Y.shape) == 1:\n",
    "            Y = np.eye(P.shape[1])[Y]  \n",
    "        \n",
    "        self.loss= -np.sum(Y * np.log(P)) / P.shape[0]\n",
    "        return self.loss\n",
    "\n",
    "    def gradients(self):\n",
    "        P=self.P\n",
    "        Y=self.Y\n",
    "        return (-((Y-P)/np.maximum(np.abs(Y-P),1e-13))/self.n,)\n"
   ]
  },
  {
   "cell_type": "code",
   "execution_count": 30,
   "id": "3894800b-bda1-474e-a72e-96a09a3d77d7",
   "metadata": {},
   "outputs": [],
   "source": [
    "# 앞선 torch와 달리 tensorflow방식으로 구현\n",
    "class Model:\n",
    "    def __init__(self,inputs,outputs):\n",
    "        self.inputs=inputs\n",
    "        self.outputs=outputs\n",
    "        \n",
    "    def __call__(self,X):\n",
    "        out=X\n",
    "        this_layer=self.inputs\n",
    "        \n",
    "        # output layer전까지 L1-> L2-> L3순으로 feedforward진행\n",
    "        # output을 못만나면 tensorflow의 경우, does not exits gradient오류가 발생.\n",
    "        while id(this_layer)!=id(self.outputs):  \n",
    "            out=this_layer.forward(out)\n",
    "            this_layer=this_layer.next_node\n",
    "        out=self.outputs.forward(out)\n",
    "        return out\n",
    "    \n",
    "    \n",
    "    def set_loss(self,loss_func):  # loss_func 클래스와 outputs를 연결\n",
    "        self.loss_func=loss_func()(self.outputs)\n",
    "        \n",
    "        \n",
    "    def set_optimizer(self,optimizer):\n",
    "        self.optimizer=optimizer\n",
    "        \n",
    "        \n",
    "    def compute_loss(self, Y, P):   # Loss값 계산\n",
    "        return self.loss_func.compute_loss(Y,P)\n",
    "    \n",
    "    \n",
    "    def backward(self):\n",
    "        out=X\n",
    "        this_layer=self.inputs\n",
    "        while id(this_layer)!=id(self.outputs):\n",
    "            this_layer.backward(optimizer=self.optimizer)\n",
    "            this_layer=this_layer.next_node\n",
    "        self.outputs.backward(optimizer=self.optimizer)"
   ]
  },
  {
   "cell_type": "code",
   "execution_count": 72,
   "id": "c2f9ebb1-b2f4-4b91-8b99-4ec9a6a355c1",
   "metadata": {},
   "outputs": [],
   "source": [
    "out=node()"
   ]
  },
  {
   "cell_type": "code",
   "execution_count": 80,
   "id": "0c5418e1-b4b9-4589-a059-be9308b42c2e",
   "metadata": {},
   "outputs": [],
   "source": [
    "#inputs=node()\n",
    "#outputs=ReLU()(inputs)\n",
    "#outputs=node()(outputs)"
   ]
  },
  {
   "cell_type": "code",
   "execution_count": 73,
   "id": "3c930abb-ebb9-4d6c-ae8f-c437904638f7",
   "metadata": {},
   "outputs": [],
   "source": [
    "model=Model(out,out)"
   ]
  },
  {
   "cell_type": "code",
   "execution_count": 74,
   "id": "ac4edf3e-450b-4309-a6ea-00e635657d1c",
   "metadata": {},
   "outputs": [],
   "source": [
    "model.set_loss(MSE_Loss)"
   ]
  },
  {
   "cell_type": "code",
   "execution_count": 81,
   "id": "f16ac74c-a5b1-4204-84f4-517b0b70cd88",
   "metadata": {},
   "outputs": [],
   "source": [
    "model.set_optimizer(Adam(1e-2))"
   ]
  },
  {
   "cell_type": "code",
   "execution_count": 82,
   "id": "4d44920f-8b9f-475b-b343-56c2f20c3f97",
   "metadata": {},
   "outputs": [
    {
     "name": "stdout",
     "output_type": "stream",
     "text": [
      "[-5.71570650e-04  1.99870364e+00  3.99797884e+00  5.99725405e+00\n",
      "  7.99652926e+00  9.99580447e+00  1.19950797e+01  1.39943549e+01\n",
      "  1.59936301e+01  1.79929053e+01]\n"
     ]
    }
   ],
   "source": [
    "for i in range(10000):\n",
    "    P=model(X)\n",
    "    model.compute_loss(Y,P)\n",
    "    model.backward()\n",
    "print(P)"
   ]
  },
  {
   "cell_type": "code",
   "execution_count": 83,
   "id": "7e65f8c0-e61a-4e33-b2ce-ff9e7d2dbcaf",
   "metadata": {},
   "outputs": [
    {
     "data": {
      "text/plain": [
       "[<matplotlib.lines.Line2D at 0x7ff992593fa0>]"
      ]
     },
     "execution_count": 83,
     "metadata": {},
     "output_type": "execute_result"
    },
    {
     "data": {
      "image/png": "[encoded data removed]",
      "text/plain": [
       "<Figure size 640x480 with 1 Axes>"
      ]
     },
     "metadata": {},
     "output_type": "display_data"
    }
   ],
   "source": [
    "plt.plot(out.w_history)"
   ]
  },
  {
   "cell_type": "code",
   "execution_count": 84,
   "id": "33992679-4b24-4817-b83f-c50e15b3491a",
   "metadata": {},
   "outputs": [
    {
     "data": {
      "text/plain": [
       "[<matplotlib.lines.Line2D at 0x7ff99258b280>]"
      ]
     },
     "execution_count": 84,
     "metadata": {},
     "output_type": "execute_result"
    },
    {
     "data": {
      "image/png": "[encoded data removed]",
      "text/plain": [
       "<Figure size 640x480 with 1 Axes>"
      ]
     },
     "metadata": {},
     "output_type": "display_data"
    }
   ],
   "source": [
    "plt.plot(out.b_history)"
   ]
  },
  {
   "cell_type": "code",
   "execution_count": 71,
   "id": "b06ba541-bf7c-4f03-baad-67b7b3f92767",
   "metadata": {},
   "outputs": [
    {
     "data": {
      "text/plain": [
       "6.2992653670343246e-06"
      ]
     },
     "execution_count": 71,
     "metadata": {},
     "output_type": "execute_result"
    }
   ],
   "source": [
    "model.compute_loss(Y,P)"
   ]
  },
  {
   "cell_type": "code",
   "execution_count": null,
   "id": "bfc0312b-c6be-4933-9621-f30b1b206bbf",
   "metadata": {},
   "outputs": [],
   "source": []
  },
  {
   "cell_type": "code",
   "execution_count": null,
   "id": "ba90bd53-d0b3-45d3-ad60-48faa0229fab",
   "metadata": {},
   "outputs": [],
   "source": []
  }
 ],
 "metadata": {
  "kernelspec": {
   "display_name": "Python 3 (ipykernel)",
   "language": "python",
   "name": "python3"
  },
  "language_info": {
   "codemirror_mode": {
    "name": "ipython",
    "version": 3
   },
   "file_extension": ".py",
   "mimetype": "text/x-python",
   "name": "python",
   "nbconvert_exporter": "python",
   "pygments_lexer": "ipython3",
   "version": "3.8.10"
  }
 },
 "nbformat": 4,
 "nbformat_minor": 5
}
